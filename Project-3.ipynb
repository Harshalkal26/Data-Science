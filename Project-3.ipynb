{
  "nbformat": 4,
  "nbformat_minor": 0,
  "metadata": {
    "colab": {
      "name": "Untitled25.ipynb",
      "provenance": []
    },
    "kernelspec": {
      "name": "python3",
      "display_name": "Python 3"
    },
    "language_info": {
      "name": "python"
    }
  },
  "cells": [
    {
      "cell_type": "markdown",
      "metadata": {
        "id": "Q8pdUq7YqbhF"
      },
      "source": [
        "#GRIP : The Sparks Foundation\n",
        "#Data Science and Busness Analytics intern\n",
        "#Author : Harshal Kalgaonkar\n",
        "#Task-3 : Exploratory Data Analysis on SampleSuperstore"
      ]
    },
    {
      "cell_type": "code",
      "metadata": {
        "id": "trZRHiyqdIQa"
      },
      "source": [
        "import numpy as np\n",
        "import pandas as pd\n",
        "import matplotlib.pyplot as plt\n",
        "import seaborn as sns"
      ],
      "execution_count": 1,
      "outputs": []
    },
    {
      "cell_type": "code",
      "metadata": {
        "id": "qXNmlG7zdvXL"
      },
      "source": [
        "df = pd.read_csv(\"SampleSuperstore.csv\")"
      ],
      "execution_count": 8,
      "outputs": []
    },
    {
      "cell_type": "code",
      "metadata": {
        "colab": {
          "base_uri": "https://localhost:8080/",
          "height": 317
        },
        "id": "UPCzmswhoGF2",
        "outputId": "185be18b-f536-4d16-dee0-d129532288ac"
      },
      "source": [
        "df.head()"
      ],
      "execution_count": 49,
      "outputs": [
        {
          "output_type": "execute_result",
          "data": {
            "text/html": [
              "<div>\n",
              "<style scoped>\n",
              "    .dataframe tbody tr th:only-of-type {\n",
              "        vertical-align: middle;\n",
              "    }\n",
              "\n",
              "    .dataframe tbody tr th {\n",
              "        vertical-align: top;\n",
              "    }\n",
              "\n",
              "    .dataframe thead th {\n",
              "        text-align: right;\n",
              "    }\n",
              "</style>\n",
              "<table border=\"1\" class=\"dataframe\">\n",
              "  <thead>\n",
              "    <tr style=\"text-align: right;\">\n",
              "      <th></th>\n",
              "      <th>Ship Mode</th>\n",
              "      <th>Segment</th>\n",
              "      <th>Country</th>\n",
              "      <th>City</th>\n",
              "      <th>State</th>\n",
              "      <th>Postal Code</th>\n",
              "      <th>Region</th>\n",
              "      <th>Category</th>\n",
              "      <th>Sub-Category</th>\n",
              "      <th>Sales</th>\n",
              "      <th>Quantity</th>\n",
              "      <th>Discount</th>\n",
              "      <th>Profit</th>\n",
              "    </tr>\n",
              "  </thead>\n",
              "  <tbody>\n",
              "    <tr>\n",
              "      <th>0</th>\n",
              "      <td>Second Class</td>\n",
              "      <td>Consumer</td>\n",
              "      <td>United States</td>\n",
              "      <td>Henderson</td>\n",
              "      <td>Kentucky</td>\n",
              "      <td>42420</td>\n",
              "      <td>South</td>\n",
              "      <td>Furniture</td>\n",
              "      <td>Bookcases</td>\n",
              "      <td>261.9600</td>\n",
              "      <td>2</td>\n",
              "      <td>0.00</td>\n",
              "      <td>41.9136</td>\n",
              "    </tr>\n",
              "    <tr>\n",
              "      <th>1</th>\n",
              "      <td>Second Class</td>\n",
              "      <td>Consumer</td>\n",
              "      <td>United States</td>\n",
              "      <td>Henderson</td>\n",
              "      <td>Kentucky</td>\n",
              "      <td>42420</td>\n",
              "      <td>South</td>\n",
              "      <td>Furniture</td>\n",
              "      <td>Chairs</td>\n",
              "      <td>731.9400</td>\n",
              "      <td>3</td>\n",
              "      <td>0.00</td>\n",
              "      <td>219.5820</td>\n",
              "    </tr>\n",
              "    <tr>\n",
              "      <th>2</th>\n",
              "      <td>Second Class</td>\n",
              "      <td>Corporate</td>\n",
              "      <td>United States</td>\n",
              "      <td>Los Angeles</td>\n",
              "      <td>California</td>\n",
              "      <td>90036</td>\n",
              "      <td>West</td>\n",
              "      <td>Office Supplies</td>\n",
              "      <td>Labels</td>\n",
              "      <td>14.6200</td>\n",
              "      <td>2</td>\n",
              "      <td>0.00</td>\n",
              "      <td>6.8714</td>\n",
              "    </tr>\n",
              "    <tr>\n",
              "      <th>3</th>\n",
              "      <td>Standard Class</td>\n",
              "      <td>Consumer</td>\n",
              "      <td>United States</td>\n",
              "      <td>Fort Lauderdale</td>\n",
              "      <td>Florida</td>\n",
              "      <td>33311</td>\n",
              "      <td>South</td>\n",
              "      <td>Furniture</td>\n",
              "      <td>Tables</td>\n",
              "      <td>957.5775</td>\n",
              "      <td>5</td>\n",
              "      <td>0.45</td>\n",
              "      <td>-383.0310</td>\n",
              "    </tr>\n",
              "    <tr>\n",
              "      <th>4</th>\n",
              "      <td>Standard Class</td>\n",
              "      <td>Consumer</td>\n",
              "      <td>United States</td>\n",
              "      <td>Fort Lauderdale</td>\n",
              "      <td>Florida</td>\n",
              "      <td>33311</td>\n",
              "      <td>South</td>\n",
              "      <td>Office Supplies</td>\n",
              "      <td>Storage</td>\n",
              "      <td>22.3680</td>\n",
              "      <td>2</td>\n",
              "      <td>0.20</td>\n",
              "      <td>2.5164</td>\n",
              "    </tr>\n",
              "  </tbody>\n",
              "</table>\n",
              "</div>"
            ],
            "text/plain": [
              "        Ship Mode    Segment        Country  ... Quantity Discount    Profit\n",
              "0    Second Class   Consumer  United States  ...        2     0.00   41.9136\n",
              "1    Second Class   Consumer  United States  ...        3     0.00  219.5820\n",
              "2    Second Class  Corporate  United States  ...        2     0.00    6.8714\n",
              "3  Standard Class   Consumer  United States  ...        5     0.45 -383.0310\n",
              "4  Standard Class   Consumer  United States  ...        2     0.20    2.5164\n",
              "\n",
              "[5 rows x 13 columns]"
            ]
          },
          "metadata": {
            "tags": []
          },
          "execution_count": 49
        }
      ]
    },
    {
      "cell_type": "code",
      "metadata": {
        "colab": {
          "base_uri": "https://localhost:8080/"
        },
        "id": "ZQupshRde-_k",
        "outputId": "7577e622-ce1d-4c26-a5cc-7270c0a0e12b"
      },
      "source": [
        "df.info()"
      ],
      "execution_count": 48,
      "outputs": [
        {
          "output_type": "stream",
          "text": [
            "<class 'pandas.core.frame.DataFrame'>\n",
            "RangeIndex: 9994 entries, 0 to 9993\n",
            "Data columns (total 13 columns):\n",
            " #   Column        Non-Null Count  Dtype  \n",
            "---  ------        --------------  -----  \n",
            " 0   Ship Mode     9994 non-null   object \n",
            " 1   Segment       9994 non-null   object \n",
            " 2   Country       9994 non-null   object \n",
            " 3   City          9994 non-null   object \n",
            " 4   State         9994 non-null   object \n",
            " 5   Postal Code   9994 non-null   int64  \n",
            " 6   Region        9994 non-null   object \n",
            " 7   Category      9994 non-null   object \n",
            " 8   Sub-Category  9994 non-null   object \n",
            " 9   Sales         9994 non-null   float64\n",
            " 10  Quantity      9994 non-null   int64  \n",
            " 11  Discount      9994 non-null   float64\n",
            " 12  Profit        9994 non-null   float64\n",
            "dtypes: float64(3), int64(2), object(8)\n",
            "memory usage: 1015.1+ KB\n"
          ],
          "name": "stdout"
        }
      ]
    },
    {
      "cell_type": "code",
      "metadata": {
        "colab": {
          "base_uri": "https://localhost:8080/",
          "height": 286
        },
        "id": "q72WZSSzfGUS",
        "outputId": "5ee947ad-6117-4be9-d282-2cc06497fdd3"
      },
      "source": [
        "df.describe()"
      ],
      "execution_count": 10,
      "outputs": [
        {
          "output_type": "execute_result",
          "data": {
            "text/html": [
              "<div>\n",
              "<style scoped>\n",
              "    .dataframe tbody tr th:only-of-type {\n",
              "        vertical-align: middle;\n",
              "    }\n",
              "\n",
              "    .dataframe tbody tr th {\n",
              "        vertical-align: top;\n",
              "    }\n",
              "\n",
              "    .dataframe thead th {\n",
              "        text-align: right;\n",
              "    }\n",
              "</style>\n",
              "<table border=\"1\" class=\"dataframe\">\n",
              "  <thead>\n",
              "    <tr style=\"text-align: right;\">\n",
              "      <th></th>\n",
              "      <th>Postal Code</th>\n",
              "      <th>Sales</th>\n",
              "      <th>Quantity</th>\n",
              "      <th>Discount</th>\n",
              "      <th>Profit</th>\n",
              "    </tr>\n",
              "  </thead>\n",
              "  <tbody>\n",
              "    <tr>\n",
              "      <th>count</th>\n",
              "      <td>9994.000000</td>\n",
              "      <td>9994.000000</td>\n",
              "      <td>9994.000000</td>\n",
              "      <td>9994.000000</td>\n",
              "      <td>9994.000000</td>\n",
              "    </tr>\n",
              "    <tr>\n",
              "      <th>mean</th>\n",
              "      <td>55190.379428</td>\n",
              "      <td>229.858001</td>\n",
              "      <td>3.789574</td>\n",
              "      <td>0.156203</td>\n",
              "      <td>28.656896</td>\n",
              "    </tr>\n",
              "    <tr>\n",
              "      <th>std</th>\n",
              "      <td>32063.693350</td>\n",
              "      <td>623.245101</td>\n",
              "      <td>2.225110</td>\n",
              "      <td>0.206452</td>\n",
              "      <td>234.260108</td>\n",
              "    </tr>\n",
              "    <tr>\n",
              "      <th>min</th>\n",
              "      <td>1040.000000</td>\n",
              "      <td>0.444000</td>\n",
              "      <td>1.000000</td>\n",
              "      <td>0.000000</td>\n",
              "      <td>-6599.978000</td>\n",
              "    </tr>\n",
              "    <tr>\n",
              "      <th>25%</th>\n",
              "      <td>23223.000000</td>\n",
              "      <td>17.280000</td>\n",
              "      <td>2.000000</td>\n",
              "      <td>0.000000</td>\n",
              "      <td>1.728750</td>\n",
              "    </tr>\n",
              "    <tr>\n",
              "      <th>50%</th>\n",
              "      <td>56430.500000</td>\n",
              "      <td>54.490000</td>\n",
              "      <td>3.000000</td>\n",
              "      <td>0.200000</td>\n",
              "      <td>8.666500</td>\n",
              "    </tr>\n",
              "    <tr>\n",
              "      <th>75%</th>\n",
              "      <td>90008.000000</td>\n",
              "      <td>209.940000</td>\n",
              "      <td>5.000000</td>\n",
              "      <td>0.200000</td>\n",
              "      <td>29.364000</td>\n",
              "    </tr>\n",
              "    <tr>\n",
              "      <th>max</th>\n",
              "      <td>99301.000000</td>\n",
              "      <td>22638.480000</td>\n",
              "      <td>14.000000</td>\n",
              "      <td>0.800000</td>\n",
              "      <td>8399.976000</td>\n",
              "    </tr>\n",
              "  </tbody>\n",
              "</table>\n",
              "</div>"
            ],
            "text/plain": [
              "        Postal Code         Sales     Quantity     Discount       Profit\n",
              "count   9994.000000   9994.000000  9994.000000  9994.000000  9994.000000\n",
              "mean   55190.379428    229.858001     3.789574     0.156203    28.656896\n",
              "std    32063.693350    623.245101     2.225110     0.206452   234.260108\n",
              "min     1040.000000      0.444000     1.000000     0.000000 -6599.978000\n",
              "25%    23223.000000     17.280000     2.000000     0.000000     1.728750\n",
              "50%    56430.500000     54.490000     3.000000     0.200000     8.666500\n",
              "75%    90008.000000    209.940000     5.000000     0.200000    29.364000\n",
              "max    99301.000000  22638.480000    14.000000     0.800000  8399.976000"
            ]
          },
          "metadata": {
            "tags": []
          },
          "execution_count": 10
        }
      ]
    },
    {
      "cell_type": "markdown",
      "metadata": {
        "id": "7ByHuQ1BgqFH"
      },
      "source": [
        "Analyzing the Profit On the basis of non numerical data"
      ]
    },
    {
      "cell_type": "code",
      "metadata": {
        "colab": {
          "base_uri": "https://localhost:8080/"
        },
        "id": "iD_i3Jv9iBgD",
        "outputId": "42972277-0b9b-4eba-8e0b-4cd7c01c03fe"
      },
      "source": [
        "df['Ship Mode'].unique()"
      ],
      "execution_count": 11,
      "outputs": [
        {
          "output_type": "execute_result",
          "data": {
            "text/plain": [
              "array(['Second Class', 'Standard Class', 'First Class', 'Same Day'],\n",
              "      dtype=object)"
            ]
          },
          "metadata": {
            "tags": []
          },
          "execution_count": 11
        }
      ]
    },
    {
      "cell_type": "code",
      "metadata": {
        "colab": {
          "base_uri": "https://localhost:8080/",
          "height": 349
        },
        "id": "SD-_roN2iGno",
        "outputId": "72e1eece-17dd-4992-c972-ae7d51e06ac3"
      },
      "source": [
        "sns.countplot(df['Ship Mode'])"
      ],
      "execution_count": 13,
      "outputs": [
        {
          "output_type": "stream",
          "text": [
            "/usr/local/lib/python3.7/dist-packages/seaborn/_decorators.py:43: FutureWarning: Pass the following variable as a keyword arg: x. From version 0.12, the only valid positional argument will be `data`, and passing other arguments without an explicit keyword will result in an error or misinterpretation.\n",
            "  FutureWarning\n"
          ],
          "name": "stderr"
        },
        {
          "output_type": "execute_result",
          "data": {
            "text/plain": [
              "<matplotlib.axes._subplots.AxesSubplot at 0x7f00fe516190>"
            ]
          },
          "metadata": {
            "tags": []
          },
          "execution_count": 13
        },
        {
          "output_type": "display_data",
          "data": {
            "image/png": "[encoded data removed]",
            "text/plain": [
              "<Figure size 432x288 with 1 Axes>"
            ]
          },
          "metadata": {
            "tags": [],
            "needs_background": "light"
          }
        }
      ]
    },
    {
      "cell_type": "code",
      "metadata": {
        "id": "nXiNYbcKiKOJ"
      },
      "source": [
        "d = {}\n",
        "for x in df['Ship Mode'].unique():\n",
        "    mean_profit = df[df['Ship Mode']==x].Profit.sum()/len(df[df['Ship Mode']==x])\n",
        "    d[x] = mean_profit"
      ],
      "execution_count": 14,
      "outputs": []
    },
    {
      "cell_type": "code",
      "metadata": {
        "colab": {
          "base_uri": "https://localhost:8080/"
        },
        "id": "b9oVjUV3iK-L",
        "outputId": "2877c24d-6057-492d-9e33-89b3ec502932"
      },
      "source": [
        "d"
      ],
      "execution_count": 18,
      "outputs": [
        {
          "output_type": "execute_result",
          "data": {
            "text/plain": [
              "[('Standard Class', 27.494770023458447),\n",
              " ('Same Day', 29.266590976058932),\n",
              " ('Second Class', 29.53554519280206),\n",
              " ('First Class', 31.839947919375813)]"
            ]
          },
          "metadata": {
            "tags": []
          },
          "execution_count": 18
        }
      ]
    },
    {
      "cell_type": "code",
      "metadata": {
        "colab": {
          "base_uri": "https://localhost:8080/"
        },
        "id": "R20K187biz0L",
        "outputId": "aeb860aa-cc23-4c08-dd0b-f4f5f95c0365"
      },
      "source": [
        "df['Segment'].unique()"
      ],
      "execution_count": 19,
      "outputs": [
        {
          "output_type": "execute_result",
          "data": {
            "text/plain": [
              "array(['Consumer', 'Corporate', 'Home Office'], dtype=object)"
            ]
          },
          "metadata": {
            "tags": []
          },
          "execution_count": 19
        }
      ]
    },
    {
      "cell_type": "code",
      "metadata": {
        "colab": {
          "base_uri": "https://localhost:8080/",
          "height": 349
        },
        "id": "YO92Ekm9jPHU",
        "outputId": "aa379d35-ff01-48ae-b759-8b4b4278a6c5"
      },
      "source": [
        "sns.countplot(df['Segment'])"
      ],
      "execution_count": 20,
      "outputs": [
        {
          "output_type": "stream",
          "text": [
            "/usr/local/lib/python3.7/dist-packages/seaborn/_decorators.py:43: FutureWarning: Pass the following variable as a keyword arg: x. From version 0.12, the only valid positional argument will be `data`, and passing other arguments without an explicit keyword will result in an error or misinterpretation.\n",
            "  FutureWarning\n"
          ],
          "name": "stderr"
        },
        {
          "output_type": "execute_result",
          "data": {
            "text/plain": [
              "<matplotlib.axes._subplots.AxesSubplot at 0x7f00eb4e8210>"
            ]
          },
          "metadata": {
            "tags": []
          },
          "execution_count": 20
        },
        {
          "output_type": "display_data",
          "data": {
            "image/png": "[encoded data removed]",
            "text/plain": [
              "<Figure size 432x288 with 1 Axes>"
            ]
          },
          "metadata": {
            "tags": [],
            "needs_background": "light"
          }
        }
      ]
    },
    {
      "cell_type": "code",
      "metadata": {
        "colab": {
          "base_uri": "https://localhost:8080/"
        },
        "id": "r2pUi9Y2jcTc",
        "outputId": "780a3ca5-cdce-46b5-8e4b-85ab4d0c4890"
      },
      "source": [
        "df['Segment'].value_counts()"
      ],
      "execution_count": 27,
      "outputs": [
        {
          "output_type": "execute_result",
          "data": {
            "text/plain": [
              "Consumer       5191\n",
              "Corporate      3020\n",
              "Home Office    1783\n",
              "Name: Segment, dtype: int64"
            ]
          },
          "metadata": {
            "tags": []
          },
          "execution_count": 27
        }
      ]
    },
    {
      "cell_type": "code",
      "metadata": {
        "colab": {
          "base_uri": "https://localhost:8080/"
        },
        "id": "giWIJvaakDNk",
        "outputId": "b15fc0ee-ca6b-464d-e8d0-63a515fa4011"
      },
      "source": [
        "df['Country'].unique()"
      ],
      "execution_count": 28,
      "outputs": [
        {
          "output_type": "execute_result",
          "data": {
            "text/plain": [
              "array(['United States'], dtype=object)"
            ]
          },
          "metadata": {
            "tags": []
          },
          "execution_count": 28
        }
      ]
    },
    {
      "cell_type": "code",
      "metadata": {
        "colab": {
          "base_uri": "https://localhost:8080/"
        },
        "id": "ZW8yxawtkT7Q",
        "outputId": "374bac84-dc5c-416a-a38d-08a4a5f13f62"
      },
      "source": [
        "df['City'].unique()"
      ],
      "execution_count": 29,
      "outputs": [
        {
          "output_type": "execute_result",
          "data": {
            "text/plain": [
              "array(['Henderson', 'Los Angeles', 'Fort Lauderdale', 'Concord',\n",
              "       'Seattle', 'Fort Worth', 'Madison', 'West Jordan', 'San Francisco',\n",
              "       'Fremont', 'Philadelphia', 'Orem', 'Houston', 'Richardson',\n",
              "       'Naperville', 'Melbourne', 'Eagan', 'Westland', 'Dover',\n",
              "       'New Albany', 'New York City', 'Troy', 'Chicago', 'Gilbert',\n",
              "       'Springfield', 'Jackson', 'Memphis', 'Decatur', 'Durham',\n",
              "       'Columbia', 'Rochester', 'Minneapolis', 'Portland', 'Saint Paul',\n",
              "       'Aurora', 'Charlotte', 'Orland Park', 'Urbandale', 'Columbus',\n",
              "       'Bristol', 'Wilmington', 'Bloomington', 'Phoenix', 'Roseville',\n",
              "       'Independence', 'Pasadena', 'Newark', 'Franklin', 'Scottsdale',\n",
              "       'San Jose', 'Edmond', 'Carlsbad', 'San Antonio', 'Monroe',\n",
              "       'Fairfield', 'Grand Prairie', 'Redlands', 'Hamilton', 'Westfield',\n",
              "       'Akron', 'Denver', 'Dallas', 'Whittier', 'Saginaw', 'Medina',\n",
              "       'Dublin', 'Detroit', 'Tampa', 'Santa Clara', 'Lakeville',\n",
              "       'San Diego', 'Brentwood', 'Chapel Hill', 'Morristown',\n",
              "       'Cincinnati', 'Inglewood', 'Tamarac', 'Colorado Springs',\n",
              "       'Belleville', 'Taylor', 'Lakewood', 'Arlington', 'Arvada',\n",
              "       'Hackensack', 'Saint Petersburg', 'Long Beach', 'Hesperia',\n",
              "       'Murfreesboro', 'Layton', 'Austin', 'Lowell', 'Manchester',\n",
              "       'Harlingen', 'Tucson', 'Quincy', 'Pembroke Pines', 'Des Moines',\n",
              "       'Peoria', 'Las Vegas', 'Warwick', 'Miami', 'Huntington Beach',\n",
              "       'Richmond', 'Louisville', 'Lawrence', 'Canton', 'New Rochelle',\n",
              "       'Gastonia', 'Jacksonville', 'Auburn', 'Norman', 'Park Ridge',\n",
              "       'Amarillo', 'Lindenhurst', 'Huntsville', 'Fayetteville',\n",
              "       'Costa Mesa', 'Parker', 'Atlanta', 'Gladstone', 'Great Falls',\n",
              "       'Lakeland', 'Montgomery', 'Mesa', 'Green Bay', 'Anaheim',\n",
              "       'Marysville', 'Salem', 'Laredo', 'Grove City', 'Dearborn',\n",
              "       'Warner Robins', 'Vallejo', 'Mission Viejo', 'Rochester Hills',\n",
              "       'Plainfield', 'Sierra Vista', 'Vancouver', 'Cleveland', 'Tyler',\n",
              "       'Burlington', 'Waynesboro', 'Chester', 'Cary', 'Palm Coast',\n",
              "       'Mount Vernon', 'Hialeah', 'Oceanside', 'Evanston', 'Trenton',\n",
              "       'Cottage Grove', 'Bossier City', 'Lancaster', 'Asheville',\n",
              "       'Lake Elsinore', 'Omaha', 'Edmonds', 'Santa Ana', 'Milwaukee',\n",
              "       'Florence', 'Lorain', 'Linden', 'Salinas', 'New Brunswick',\n",
              "       'Garland', 'Norwich', 'Alexandria', 'Toledo', 'Farmington',\n",
              "       'Riverside', 'Torrance', 'Round Rock', 'Boca Raton',\n",
              "       'Virginia Beach', 'Murrieta', 'Olympia', 'Washington',\n",
              "       'Jefferson City', 'Saint Peters', 'Rockford', 'Brownsville',\n",
              "       'Yonkers', 'Oakland', 'Clinton', 'Encinitas', 'Roswell',\n",
              "       'Jonesboro', 'Antioch', 'Homestead', 'La Porte', 'Lansing',\n",
              "       'Cuyahoga Falls', 'Reno', 'Harrisonburg', 'Escondido', 'Royal Oak',\n",
              "       'Rockville', 'Coral Springs', 'Buffalo', 'Boynton Beach',\n",
              "       'Gulfport', 'Fresno', 'Greenville', 'Macon', 'Cedar Rapids',\n",
              "       'Providence', 'Pueblo', 'Deltona', 'Murray', 'Middletown',\n",
              "       'Freeport', 'Pico Rivera', 'Provo', 'Pleasant Grove', 'Smyrna',\n",
              "       'Parma', 'Mobile', 'New Bedford', 'Irving', 'Vineland', 'Glendale',\n",
              "       'Niagara Falls', 'Thomasville', 'Westminster', 'Coppell', 'Pomona',\n",
              "       'North Las Vegas', 'Allentown', 'Tempe', 'Laguna Niguel',\n",
              "       'Bridgeton', 'Everett', 'Watertown', 'Appleton', 'Bellevue',\n",
              "       'Allen', 'El Paso', 'Grapevine', 'Carrollton', 'Kent', 'Lafayette',\n",
              "       'Tigard', 'Skokie', 'Plano', 'Suffolk', 'Indianapolis', 'Bayonne',\n",
              "       'Greensboro', 'Baltimore', 'Kenosha', 'Olathe', 'Tulsa', 'Redmond',\n",
              "       'Raleigh', 'Muskogee', 'Meriden', 'Bowling Green', 'South Bend',\n",
              "       'Spokane', 'Keller', 'Port Orange', 'Medford', 'Charlottesville',\n",
              "       'Missoula', 'Apopka', 'Reading', 'Broomfield', 'Paterson',\n",
              "       'Oklahoma City', 'Chesapeake', 'Lubbock', 'Johnson City',\n",
              "       'San Bernardino', 'Leominster', 'Bozeman', 'Perth Amboy',\n",
              "       'Ontario', 'Rancho Cucamonga', 'Moorhead', 'Mesquite', 'Stockton',\n",
              "       'Ormond Beach', 'Sunnyvale', 'York', 'College Station',\n",
              "       'Saint Louis', 'Manteca', 'San Angelo', 'Salt Lake City',\n",
              "       'Knoxville', 'Little Rock', 'Lincoln Park', 'Marion', 'Littleton',\n",
              "       'Bangor', 'Southaven', 'New Castle', 'Midland', 'Sioux Falls',\n",
              "       'Fort Collins', 'Clarksville', 'Sacramento', 'Thousand Oaks',\n",
              "       'Malden', 'Holyoke', 'Albuquerque', 'Sparks', 'Coachella',\n",
              "       'Elmhurst', 'Passaic', 'North Charleston', 'Newport News',\n",
              "       'Jamestown', 'Mishawaka', 'La Quinta', 'Tallahassee', 'Nashville',\n",
              "       'Bellingham', 'Woodstock', 'Haltom City', 'Wheeling',\n",
              "       'Summerville', 'Hot Springs', 'Englewood', 'Las Cruces', 'Hoover',\n",
              "       'Frisco', 'Vacaville', 'Waukesha', 'Bakersfield', 'Pompano Beach',\n",
              "       'Corpus Christi', 'Redondo Beach', 'Orlando', 'Orange',\n",
              "       'Lake Charles', 'Highland Park', 'Hempstead', 'Noblesville',\n",
              "       'Apple Valley', 'Mount Pleasant', 'Sterling Heights', 'Eau Claire',\n",
              "       'Pharr', 'Billings', 'Gresham', 'Chattanooga', 'Meridian',\n",
              "       'Bolingbrook', 'Maple Grove', 'Woodland', 'Missouri City',\n",
              "       'Pearland', 'San Mateo', 'Grand Rapids', 'Visalia',\n",
              "       'Overland Park', 'Temecula', 'Yucaipa', 'Revere', 'Conroe',\n",
              "       'Tinley Park', 'Dubuque', 'Dearborn Heights', 'Santa Fe',\n",
              "       'Hickory', 'Carol Stream', 'Saint Cloud', 'North Miami',\n",
              "       'Plantation', 'Port Saint Lucie', 'Rock Hill', 'Odessa',\n",
              "       'West Allis', 'Chula Vista', 'Manhattan', 'Altoona', 'Thornton',\n",
              "       'Champaign', 'Texarkana', 'Edinburg', 'Baytown', 'Greenwood',\n",
              "       'Woonsocket', 'Superior', 'Bedford', 'Covington', 'Broken Arrow',\n",
              "       'Miramar', 'Hollywood', 'Deer Park', 'Wichita', 'Mcallen',\n",
              "       'Iowa City', 'Boise', 'Cranston', 'Port Arthur', 'Citrus Heights',\n",
              "       'The Colony', 'Daytona Beach', 'Bullhead City', 'Portage', 'Fargo',\n",
              "       'Elkhart', 'San Gabriel', 'Margate', 'Sandy Springs', 'Mentor',\n",
              "       'Lawton', 'Hampton', 'Rome', 'La Crosse', 'Lewiston',\n",
              "       'Hattiesburg', 'Danville', 'Logan', 'Waterbury', 'Athens',\n",
              "       'Avondale', 'Marietta', 'Yuma', 'Wausau', 'Pasco', 'Oak Park',\n",
              "       'Pensacola', 'League City', 'Gaithersburg', 'Lehi', 'Tuscaloosa',\n",
              "       'Moreno Valley', 'Georgetown', 'Loveland', 'Chandler', 'Helena',\n",
              "       'Kirkwood', 'Waco', 'Frankfort', 'Bethlehem', 'Grand Island',\n",
              "       'Woodbury', 'Rogers', 'Clovis', 'Jupiter', 'Santa Barbara',\n",
              "       'Cedar Hill', 'Norfolk', 'Draper', 'Ann Arbor', 'La Mesa',\n",
              "       'Pocatello', 'Holland', 'Milford', 'Buffalo Grove', 'Lake Forest',\n",
              "       'Redding', 'Chico', 'Utica', 'Conway', 'Cheyenne', 'Owensboro',\n",
              "       'Caldwell', 'Kenner', 'Nashua', 'Bartlett', 'Redwood City',\n",
              "       'Lebanon', 'Santa Maria', 'Des Plaines', 'Longview',\n",
              "       'Hendersonville', 'Waterloo', 'Cambridge', 'Palatine', 'Beverly',\n",
              "       'Eugene', 'Oxnard', 'Renton', 'Glenview', 'Delray Beach',\n",
              "       'Commerce City', 'Texas City', 'Wilson', 'Rio Rancho', 'Goldsboro',\n",
              "       'Montebello', 'El Cajon', 'Beaumont', 'West Palm Beach', 'Abilene',\n",
              "       'Normal', 'Saint Charles', 'Camarillo', 'Hillsboro', 'Burbank',\n",
              "       'Modesto', 'Garden City', 'Atlantic City', 'Longmont', 'Davis',\n",
              "       'Morgan Hill', 'Clifton', 'Sheboygan', 'East Point', 'Rapid City',\n",
              "       'Andover', 'Kissimmee', 'Shelton', 'Danbury', 'Sanford',\n",
              "       'San Marcos', 'Greeley', 'Mansfield', 'Elyria', 'Twin Falls',\n",
              "       'Coral Gables', 'Romeoville', 'Marlborough', 'Laurel', 'Bryan',\n",
              "       'Pine Bluff', 'Aberdeen', 'Hagerstown', 'East Orange',\n",
              "       'Arlington Heights', 'Oswego', 'Coon Rapids', 'San Clemente',\n",
              "       'San Luis Obispo', 'Springdale', 'Lodi', 'Mason'], dtype=object)"
            ]
          },
          "metadata": {
            "tags": []
          },
          "execution_count": 29
        }
      ]
    },
    {
      "cell_type": "code",
      "metadata": {
        "colab": {
          "base_uri": "https://localhost:8080/",
          "height": 349
        },
        "id": "FKu8yxgDki8s",
        "outputId": "8105d3fb-b491-462d-f9b0-63074901ceb1"
      },
      "source": [
        "sns.countplot(df['City'])"
      ],
      "execution_count": 30,
      "outputs": [
        {
          "output_type": "stream",
          "text": [
            "/usr/local/lib/python3.7/dist-packages/seaborn/_decorators.py:43: FutureWarning: Pass the following variable as a keyword arg: x. From version 0.12, the only valid positional argument will be `data`, and passing other arguments without an explicit keyword will result in an error or misinterpretation.\n",
            "  FutureWarning\n"
          ],
          "name": "stderr"
        },
        {
          "output_type": "execute_result",
          "data": {
            "text/plain": [
              "<matplotlib.axes._subplots.AxesSubplot at 0x7f00e7a88250>"
            ]
          },
          "metadata": {
            "tags": []
          },
          "execution_count": 30
        },
        {
          "output_type": "display_data",
          "data": {
            "image/png": "[encoded data removed]",
            "text/plain": [
              "<Figure size 432x288 with 1 Axes>"
            ]
          },
          "metadata": {
            "tags": [],
            "needs_background": "light"
          }
        }
      ]
    },
    {
      "cell_type": "code",
      "metadata": {
        "colab": {
          "base_uri": "https://localhost:8080/"
        },
        "id": "M_vPYMwokomv",
        "outputId": "b355fae7-4d56-4662-ad48-ab28aee75308"
      },
      "source": [
        "df['State'].unique()"
      ],
      "execution_count": 31,
      "outputs": [
        {
          "output_type": "execute_result",
          "data": {
            "text/plain": [
              "array(['Kentucky', 'California', 'Florida', 'North Carolina',\n",
              "       'Washington', 'Texas', 'Wisconsin', 'Utah', 'Nebraska',\n",
              "       'Pennsylvania', 'Illinois', 'Minnesota', 'Michigan', 'Delaware',\n",
              "       'Indiana', 'New York', 'Arizona', 'Virginia', 'Tennessee',\n",
              "       'Alabama', 'South Carolina', 'Oregon', 'Colorado', 'Iowa', 'Ohio',\n",
              "       'Missouri', 'Oklahoma', 'New Mexico', 'Louisiana', 'Connecticut',\n",
              "       'New Jersey', 'Massachusetts', 'Georgia', 'Nevada', 'Rhode Island',\n",
              "       'Mississippi', 'Arkansas', 'Montana', 'New Hampshire', 'Maryland',\n",
              "       'District of Columbia', 'Kansas', 'Vermont', 'Maine',\n",
              "       'South Dakota', 'Idaho', 'North Dakota', 'Wyoming',\n",
              "       'West Virginia'], dtype=object)"
            ]
          },
          "metadata": {
            "tags": []
          },
          "execution_count": 31
        }
      ]
    },
    {
      "cell_type": "code",
      "metadata": {
        "colab": {
          "base_uri": "https://localhost:8080/",
          "height": 349
        },
        "id": "6ldZoMxYkxFf",
        "outputId": "7b0deea4-2a97-457b-8528-f6126c5ce99d"
      },
      "source": [
        "sns.countplot(df['State'])"
      ],
      "execution_count": 32,
      "outputs": [
        {
          "output_type": "stream",
          "text": [
            "/usr/local/lib/python3.7/dist-packages/seaborn/_decorators.py:43: FutureWarning: Pass the following variable as a keyword arg: x. From version 0.12, the only valid positional argument will be `data`, and passing other arguments without an explicit keyword will result in an error or misinterpretation.\n",
            "  FutureWarning\n"
          ],
          "name": "stderr"
        },
        {
          "output_type": "execute_result",
          "data": {
            "text/plain": [
              "<matplotlib.axes._subplots.AxesSubplot at 0x7f00e7677310>"
            ]
          },
          "metadata": {
            "tags": []
          },
          "execution_count": 32
        },
        {
          "output_type": "display_data",
          "data": {
            "image/png": "[encoded data removed]",
            "text/plain": [
              "<Figure size 432x288 with 1 Axes>"
            ]
          },
          "metadata": {
            "tags": [],
            "needs_background": "light"
          }
        }
      ]
    },
    {
      "cell_type": "code",
      "metadata": {
        "colab": {
          "base_uri": "https://localhost:8080/"
        },
        "id": "R7YgEewQk5ba",
        "outputId": "b8faf83a-9956-46b7-83fd-179f7c92bd43"
      },
      "source": [
        "df[\"State\"].value_counts()"
      ],
      "execution_count": 33,
      "outputs": [
        {
          "output_type": "execute_result",
          "data": {
            "text/plain": [
              "California              2001\n",
              "New York                1128\n",
              "Texas                    985\n",
              "Pennsylvania             587\n",
              "Washington               506\n",
              "Illinois                 492\n",
              "Ohio                     469\n",
              "Florida                  383\n",
              "Michigan                 255\n",
              "North Carolina           249\n",
              "Virginia                 224\n",
              "Arizona                  224\n",
              "Georgia                  184\n",
              "Tennessee                183\n",
              "Colorado                 182\n",
              "Indiana                  149\n",
              "Kentucky                 139\n",
              "Massachusetts            135\n",
              "New Jersey               130\n",
              "Oregon                   124\n",
              "Wisconsin                110\n",
              "Maryland                 105\n",
              "Delaware                  96\n",
              "Minnesota                 89\n",
              "Connecticut               82\n",
              "Missouri                  66\n",
              "Oklahoma                  66\n",
              "Alabama                   61\n",
              "Arkansas                  60\n",
              "Rhode Island              56\n",
              "Mississippi               53\n",
              "Utah                      53\n",
              "Louisiana                 42\n",
              "South Carolina            42\n",
              "Nevada                    39\n",
              "Nebraska                  38\n",
              "New Mexico                37\n",
              "Iowa                      30\n",
              "New Hampshire             27\n",
              "Kansas                    24\n",
              "Idaho                     21\n",
              "Montana                   15\n",
              "South Dakota              12\n",
              "Vermont                   11\n",
              "District of Columbia      10\n",
              "Maine                      8\n",
              "North Dakota               7\n",
              "West Virginia              4\n",
              "Wyoming                    1\n",
              "Name: State, dtype: int64"
            ]
          },
          "metadata": {
            "tags": []
          },
          "execution_count": 33
        }
      ]
    },
    {
      "cell_type": "code",
      "metadata": {
        "colab": {
          "base_uri": "https://localhost:8080/",
          "height": 349
        },
        "id": "wSH5XShuhVUy",
        "outputId": "835c08cc-f772-4681-8226-3c97642bbcf0"
      },
      "source": [
        "sns.countplot(df['Category'])"
      ],
      "execution_count": 34,
      "outputs": [
        {
          "output_type": "stream",
          "text": [
            "/usr/local/lib/python3.7/dist-packages/seaborn/_decorators.py:43: FutureWarning: Pass the following variable as a keyword arg: x. From version 0.12, the only valid positional argument will be `data`, and passing other arguments without an explicit keyword will result in an error or misinterpretation.\n",
            "  FutureWarning\n"
          ],
          "name": "stderr"
        },
        {
          "output_type": "execute_result",
          "data": {
            "text/plain": [
              "<matplotlib.axes._subplots.AxesSubplot at 0x7f00e67701d0>"
            ]
          },
          "metadata": {
            "tags": []
          },
          "execution_count": 34
        },
        {
          "output_type": "display_data",
          "data": {
            "image/png": "[encoded data removed]",
            "text/plain": [
              "<Figure size 432x288 with 1 Axes>"
            ]
          },
          "metadata": {
            "tags": [],
            "needs_background": "light"
          }
        }
      ]
    },
    {
      "cell_type": "code",
      "metadata": {
        "colab": {
          "base_uri": "https://localhost:8080/"
        },
        "id": "HKfgdsx2fPEd",
        "outputId": "16461e14-4da4-4411-ccfc-3bc5ef913737"
      },
      "source": [
        "df['Category'].unique()"
      ],
      "execution_count": 35,
      "outputs": [
        {
          "output_type": "execute_result",
          "data": {
            "text/plain": [
              "array(['Furniture', 'Office Supplies', 'Technology'], dtype=object)"
            ]
          },
          "metadata": {
            "tags": []
          },
          "execution_count": 35
        }
      ]
    },
    {
      "cell_type": "code",
      "metadata": {
        "colab": {
          "base_uri": "https://localhost:8080/"
        },
        "id": "8b2f2toqg4Cz",
        "outputId": "4aa74552-ae32-4a2b-958f-4234cd7bbb4c"
      },
      "source": [
        "df[df['Category']=='Furniture'].Profit.sum()"
      ],
      "execution_count": 36,
      "outputs": [
        {
          "output_type": "execute_result",
          "data": {
            "text/plain": [
              "18451.272800000006"
            ]
          },
          "metadata": {
            "tags": []
          },
          "execution_count": 36
        }
      ]
    },
    {
      "cell_type": "code",
      "metadata": {
        "colab": {
          "base_uri": "https://localhost:8080/"
        },
        "id": "m4ZHOcBog82_",
        "outputId": "e3d46e84-62c9-4d17-acbf-3f94f419ac3e"
      },
      "source": [
        "df[df['Category']=='Office Supplies'].Profit.sum()"
      ],
      "execution_count": 37,
      "outputs": [
        {
          "output_type": "execute_result",
          "data": {
            "text/plain": [
              "122490.8008"
            ]
          },
          "metadata": {
            "tags": []
          },
          "execution_count": 37
        }
      ]
    },
    {
      "cell_type": "code",
      "metadata": {
        "colab": {
          "base_uri": "https://localhost:8080/"
        },
        "id": "oBfwG4Lag8zg",
        "outputId": "6d31a034-b2ec-4045-b474-499e6217f027"
      },
      "source": [
        "df[df['Category']=='Technology'].Profit.sum()"
      ],
      "execution_count": 38,
      "outputs": [
        {
          "output_type": "execute_result",
          "data": {
            "text/plain": [
              "145454.9481"
            ]
          },
          "metadata": {
            "tags": []
          },
          "execution_count": 38
        }
      ]
    },
    {
      "cell_type": "code",
      "metadata": {
        "colab": {
          "base_uri": "https://localhost:8080/"
        },
        "id": "em-XfN4Tg8x_",
        "outputId": "48062c4f-d2ff-4f39-86cb-125bd94301ff"
      },
      "source": [
        "df[df['Category']=='Furniture'].Profit.sum()/len(df[df['Category']=='Furniture'])"
      ],
      "execution_count": 40,
      "outputs": [
        {
          "output_type": "execute_result",
          "data": {
            "text/plain": [
              "8.699327109853845"
            ]
          },
          "metadata": {
            "tags": []
          },
          "execution_count": 40
        }
      ]
    },
    {
      "cell_type": "code",
      "metadata": {
        "colab": {
          "base_uri": "https://localhost:8080/"
        },
        "id": "o13LiK1fg8u2",
        "outputId": "3f8a6a4b-06d5-4e5d-a333-f65158539b92"
      },
      "source": [
        "df[df['Category']=='Office Supplies'].Profit.sum()/len(df[df['Category']=='Office Supplies'])"
      ],
      "execution_count": 41,
      "outputs": [
        {
          "output_type": "execute_result",
          "data": {
            "text/plain": [
              "20.3270495851311"
            ]
          },
          "metadata": {
            "tags": []
          },
          "execution_count": 41
        }
      ]
    },
    {
      "cell_type": "code",
      "metadata": {
        "colab": {
          "base_uri": "https://localhost:8080/"
        },
        "id": "w_RP1Nwgg8tO",
        "outputId": "3ce23558-5e25-4afb-812b-8648631e2ff0"
      },
      "source": [
        "df[df['Category']=='Technology'].Profit.sum()/len(df[df['Category']=='Technology'])"
      ],
      "execution_count": 42,
      "outputs": [
        {
          "output_type": "execute_result",
          "data": {
            "text/plain": [
              "78.75200221981592"
            ]
          },
          "metadata": {
            "tags": []
          },
          "execution_count": 42
        }
      ]
    },
    {
      "cell_type": "markdown",
      "metadata": {
        "id": "tEVlh85HmM4z"
      },
      "source": [
        "Analyzing the Profit On the basis of numerical data"
      ]
    },
    {
      "cell_type": "code",
      "metadata": {
        "colab": {
          "base_uri": "https://localhost:8080/",
          "height": 1000
        },
        "id": "vCCFiMgvmMdg",
        "outputId": "9a4075e5-1cda-41e2-8192-5596509575f6"
      },
      "source": [
        "sns.jointplot(df['Sales'], df['Profit'], kind = \"reg\")\n",
        "sns.jointplot(df['Quantity'], df['Profit'], kind = \"reg\")\n",
        "sns.jointplot(df['Discount'], df['Profit'], kind = \"reg\")\n",
        "plt.show()"
      ],
      "execution_count": 47,
      "outputs": [
        {
          "output_type": "stream",
          "text": [
            "/usr/local/lib/python3.7/dist-packages/seaborn/_decorators.py:43: FutureWarning: Pass the following variables as keyword args: x, y. From version 0.12, the only valid positional argument will be `data`, and passing other arguments without an explicit keyword will result in an error or misinterpretation.\n",
            "  FutureWarning\n",
            "/usr/local/lib/python3.7/dist-packages/seaborn/_decorators.py:43: FutureWarning: Pass the following variables as keyword args: x, y. From version 0.12, the only valid positional argument will be `data`, and passing other arguments without an explicit keyword will result in an error or misinterpretation.\n",
            "  FutureWarning\n",
            "/usr/local/lib/python3.7/dist-packages/seaborn/_decorators.py:43: FutureWarning: Pass the following variables as keyword args: x, y. From version 0.12, the only valid positional argument will be `data`, and passing other arguments without an explicit keyword will result in an error or misinterpretation.\n",
            "  FutureWarning\n"
          ],
          "name": "stderr"
        },
        {
          "output_type": "display_data",
          "data": {
            "image/png": "[encoded data removed]",
            "text/plain": [
              "<Figure size 432x432 with 3 Axes>"
            ]
          },
          "metadata": {
            "tags": [],
            "needs_background": "light"
          }
        },
        {
          "output_type": "display_data",
          "data": {
            "image/png": "[encoded data removed]",
            "text/plain": [
              "<Figure size 432x432 with 3 Axes>"
            ]
          },
          "metadata": {
            "tags": [],
            "needs_background": "light"
          }
        },
        {
          "output_type": "display_data",
          "data": {
            "image/png": "[encoded data removed]",
            "text/plain": [
              "<Figure size 432x432 with 3 Axes>"
            ]
          },
          "metadata": {
            "tags": [],
            "needs_background": "light"
          }
        }
      ]
    },
    {
      "cell_type": "markdown",
      "metadata": {
        "id": "O_u-G117o83O"
      },
      "source": [
        "##Following are the weak areas :\n",
        "##1] The average Profits generated by Furniture is very low.\n",
        "##2] The average Profits generated by the Office Supplies is moderate.\n",
        "##3] The quantity of items don't impact on the Profits generated. This means, the profit generated per item is not consistent.\n",
        "##4] The discount given for the items also, doesn't effect in any more profits.\n",
        "##5] Some states have negative Mean Profits or no profit"
      ]
    },
    {
      "cell_type": "code",
      "metadata": {
        "id": "AjN1YLl4g8lM"
      },
      "source": [
        ""
      ],
      "execution_count": null,
      "outputs": []
    },
    {
      "cell_type": "code",
      "metadata": {
        "id": "i1K5nvDqg8je"
      },
      "source": [
        ""
      ],
      "execution_count": null,
      "outputs": []
    }
  ]
}